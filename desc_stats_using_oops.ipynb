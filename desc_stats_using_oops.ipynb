{
 "cells": [
  {
   "cell_type": "code",
   "execution_count": 1,
   "id": "e735d202-670e-4a21-bc05-0ff7a5bdbe65",
   "metadata": {},
   "outputs": [],
   "source": [
    "import numpy as np\n",
    "import scipy as sp\n",
    "import seaborn as sns"
   ]
  },
  {
   "cell_type": "code",
   "execution_count": 2,
   "id": "a0f4bc51-8df2-4018-a64d-13f7990c3c2f",
   "metadata": {},
   "outputs": [],
   "source": [
    "class DescriptiveStatistics:\n",
    "    def __init__(self, data):\n",
    "        self.data = np.array(data)\n",
    "        self.length = self.data.size\n",
    "\n",
    "    def mean(self):\n",
    "        return np.mean(self.data)\n",
    "\n",
    "    def median(self):\n",
    "        return np.median(self.data)\n",
    "\n",
    "    def mode(self):\n",
    "        mode = sp.stats.mode(self.data)\n",
    "        return mode.mode"
   ]
  },
  {
   "cell_type": "code",
   "execution_count": 3,
   "id": "ee2a4fd6-e8d4-4aed-b298-5f84ea64af74",
   "metadata": {},
   "outputs": [],
   "source": [
    "data = [12, 14, 15, 15, 16, 17, 18, 19, 20, 21, 21, 22, 22, 23, 23, 24, 25, 26, 27, 28, 29, 30, 31, 32, 33, 34, 35]\n",
    "obj = DescriptiveStatistics(data)"
   ]
  },
  {
   "cell_type": "code",
   "execution_count": 4,
   "id": "0f9a0a6e-24c6-48bb-b6c1-9938ce78393b",
   "metadata": {},
   "outputs": [
    {
     "data": {
      "text/plain": [
       "23.40740740740741"
      ]
     },
     "execution_count": 4,
     "metadata": {},
     "output_type": "execute_result"
    }
   ],
   "source": [
    "obj.mean()"
   ]
  },
  {
   "cell_type": "code",
   "execution_count": 5,
   "id": "3d248e85-64da-4f95-876f-d96a470a5539",
   "metadata": {},
   "outputs": [
    {
     "data": {
      "text/plain": [
       "23.0"
      ]
     },
     "execution_count": 5,
     "metadata": {},
     "output_type": "execute_result"
    }
   ],
   "source": [
    "obj.median()"
   ]
  },
  {
   "cell_type": "code",
   "execution_count": 6,
   "id": "bd0d364e-3e87-4ec1-a682-e6eda1d54c10",
   "metadata": {},
   "outputs": [
    {
     "data": {
      "text/plain": [
       "15"
      ]
     },
     "execution_count": 6,
     "metadata": {},
     "output_type": "execute_result"
    }
   ],
   "source": [
    "obj.mode()"
   ]
  },
  {
   "cell_type": "code",
   "execution_count": null,
   "id": "d4936404-4c1f-496a-a447-0f891613b48c",
   "metadata": {},
   "outputs": [],
   "source": []
  }
 ],
 "metadata": {
  "kernelspec": {
   "display_name": "Python 3 (ipykernel)",
   "language": "python",
   "name": "python3"
  },
  "language_info": {
   "codemirror_mode": {
    "name": "ipython",
    "version": 3
   },
   "file_extension": ".py",
   "mimetype": "text/x-python",
   "name": "python",
   "nbconvert_exporter": "python",
   "pygments_lexer": "ipython3",
   "version": "3.12.2"
  }
 },
 "nbformat": 4,
 "nbformat_minor": 5
}
