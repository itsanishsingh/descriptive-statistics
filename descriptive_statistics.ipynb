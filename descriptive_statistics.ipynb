{
 "cells": [
  {
   "cell_type": "markdown",
   "id": "ac6993d3-df1b-49a4-9e9c-56e790dd58fe",
   "metadata": {},
   "source": [
    "# Descriptive Statistics"
   ]
  },
  {
   "cell_type": "markdown",
   "id": "e74c02d7-a20d-45c0-97ff-6347dc82ba84",
   "metadata": {},
   "source": [
    "> Descriptive statistics refers to a branch of statistics that involves summarizing, organizing, and presenting data meaningfully and concisely. It focuses on describing and analyzing a dataset's main features and characteristics without making any generalizations or inferences to a larger population.\n",
    "\n",
    "Reference - [Simplilearn](https://www.simplilearn.com/what-is-descriptive-statistics-article)"
   ]
  },
  {
   "cell_type": "code",
   "execution_count": null,
   "id": "9fd877fc-95fb-44f0-bc6c-2c91f83fa924",
   "metadata": {},
   "outputs": [],
   "source": []
  }
 ],
 "metadata": {
  "kernelspec": {
   "display_name": "Python 3 (ipykernel)",
   "language": "python",
   "name": "python3"
  },
  "language_info": {
   "codemirror_mode": {
    "name": "ipython",
    "version": 3
   },
   "file_extension": ".py",
   "mimetype": "text/x-python",
   "name": "python",
   "nbconvert_exporter": "python",
   "pygments_lexer": "ipython3",
   "version": "3.12.7"
  }
 },
 "nbformat": 4,
 "nbformat_minor": 5
}
