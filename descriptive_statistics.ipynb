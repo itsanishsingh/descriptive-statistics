{
 "cells": [
  {
   "cell_type": "markdown",
   "id": "ac6993d3-df1b-49a4-9e9c-56e790dd58fe",
   "metadata": {},
   "source": [
    "# Descriptive Statistics"
   ]
  },
  {
   "cell_type": "markdown",
   "id": "e74c02d7-a20d-45c0-97ff-6347dc82ba84",
   "metadata": {},
   "source": [
    "> Descriptive statistics refers to a branch of statistics that involves summarizing, organizing, and presenting data meaningfully and concisely. It focuses on describing and analyzing a dataset's main features and characteristics without making any generalizations or inferences to a larger population.\n",
    "\n",
    "Reference - [Simplilearn](https://www.simplilearn.com/what-is-descriptive-statistics-article)"
   ]
  },
  {
   "cell_type": "markdown",
   "id": "8eb22415-24d0-4747-9b28-1623b04d2759",
   "metadata": {},
   "source": [
    "## Measure of Central Tendency\n",
    "The central tendency measure is defined as the number used to represent the center or middle of a set of data values. The three commonly used measures of central tendency are the mean, median, and mode.\\\n",
    "Lets use them on the following data:"
   ]
  },
  {
   "cell_type": "code",
   "execution_count": 1,
   "id": "b1b11815-6537-4332-af2b-f9ad687c3ea2",
   "metadata": {},
   "outputs": [],
   "source": [
    "records = [85, 90, 75, 92, 88, 79, 83, 95, 87, 91, 78, 86, 89, 94, 82, 80, 84, 93, 88, 81]"
   ]
  },
  {
   "cell_type": "markdown",
   "id": "85739ae0-1db0-4cdf-9312-53a7307bfa40",
   "metadata": {},
   "source": [
    "### Mean\n",
    "Simply the average of all records. It is calculated by summation of records and dividing it by number of records."
   ]
  },
  {
   "cell_type": "code",
   "execution_count": 2,
   "id": "a9886508-c1d6-4ab2-98d9-a67363b8d7f8",
   "metadata": {},
   "outputs": [
    {
     "name": "stdout",
     "output_type": "stream",
     "text": [
      "86.0 is the average score of 20 students.\n"
     ]
    }
   ],
   "source": [
    "total_score = sum(records)\n",
    "total_records = len(records)\n",
    "mean = total_score/total_records\n",
    "print(f\"{mean} is the average score of {total_records} students.\")"
   ]
  },
  {
   "cell_type": "markdown",
   "id": "211c2ce3-7a0f-4b7c-9126-b6c5a16a72f5",
   "metadata": {},
   "source": [
    "### Median\n",
    "To find a median among records they first must be sorted. Median is the record which is in dead center of records."
   ]
  },
  {
   "cell_type": "code",
   "execution_count": 3,
   "id": "6a4f5922-975e-4e11-bb4f-66da814d1506",
   "metadata": {},
   "outputs": [
    {
     "name": "stdout",
     "output_type": "stream",
     "text": [
      "87 is median value of the records.\n"
     ]
    }
   ],
   "source": [
    "def find_median(records, length):\n",
    "    if not length % 2:\n",
    "        median_index = int(length/2)\n",
    "        median = records[median_index]\n",
    "    else:\n",
    "        median_indexes = int(length/2), int(length/2) + 1\n",
    "        median = (records[median_indexes[0]] + records[median_indexes[0]]) / 2\n",
    "    return median\n",
    "\n",
    "\n",
    "sorted_records = sorted(records)\n",
    "total_records = len(records)\n",
    "median = find_median(sorted_records, total_records)\n",
    "print(f\"{median} is median value of the records.\")"
   ]
  },
  {
   "cell_type": "markdown",
   "id": "31d7bf25-b222-46d4-a926-f8a0458ba234",
   "metadata": {},
   "source": [
    "### Mode\n",
    "Mode is record which has the most occurence among the records."
   ]
  },
  {
   "cell_type": "code",
   "execution_count": 4,
   "id": "1a3be2ec-2edb-46f5-930f-3fd5dd6299ad",
   "metadata": {},
   "outputs": [
    {
     "name": "stdout",
     "output_type": "stream",
     "text": [
      "88 is the mode with 2 occurences.\n"
     ]
    }
   ],
   "source": [
    "from collections import Counter\n",
    "counted_records = Counter(records)\n",
    "counted_records = {val: key for key, val in counted_records.items()}\n",
    "max_count = max(counted_records)\n",
    "mode = counted_records[max_count]\n",
    "print(f\"{mode} is the mode with {max_count} occurences.\")"
   ]
  },
  {
   "cell_type": "markdown",
   "id": "99193ed1-926e-42de-876e-a95c3c964094",
   "metadata": {},
   "source": [
    "## Measure of Dispersion\n",
    "Dispersion in statistics is a way to describe how spread out or scattered the data is around an average value. It helps to understand if the data points are close together or far apart.\\\n",
    "We will use the previous records and look into Range, Variance, Standard Deviation, Interquartile Range (IQR) and Percentiles for now."
   ]
  },
  {
   "cell_type": "markdown",
   "id": "9c3d699e-e0fe-4b3a-8a52-a96b235b6a85",
   "metadata": {},
   "source": [
    "### Range\n",
    "The range in statistics for a given data set is the difference between the highest and lowest values."
   ]
  },
  {
   "cell_type": "code",
   "execution_count": 5,
   "id": "41fe606f-9a51-419d-a002-6031388f497d",
   "metadata": {},
   "outputs": [
    {
     "name": "stdout",
     "output_type": "stream",
     "text": [
      "20 is range of the records.\n"
     ]
    }
   ],
   "source": [
    "max_value = max(records)\n",
    "min_value = min(records)\n",
    "range_of_records = max_value - min_value\n",
    "print(f\"{range_of_records} is range of the records.\")"
   ]
  },
  {
   "cell_type": "markdown",
   "id": "fdfa4c12-8690-4bd8-9ff4-7eec381b07df",
   "metadata": {},
   "source": [
    "### Variance\n",
    "Variance is a measurement value used to find how the data is spread concerning the mean or the average value of the data set. We can find the variance by following the steps below:\\\n",
    "* First find the mean of the records.\n",
    "* Then subtract the mean from each elements and square the difference.\n",
    "* Finally find the mean of all results."
   ]
  },
  {
   "cell_type": "code",
   "execution_count": 6,
   "id": "1f579b40-70ee-4c2c-a17d-88a516472036",
   "metadata": {},
   "outputs": [
    {
     "name": "stdout",
     "output_type": "stream",
     "text": [
      "30.7 is the variance of the records.\n"
     ]
    }
   ],
   "source": [
    "variance_of_records = []\n",
    "for record in records:\n",
    "    variance = (record - mean) ** 2\n",
    "    variance_of_records.append(variance)\n",
    "variance_mean = sum(variance_of_records)/len(variance_of_records)\n",
    "print(f\"{variance_mean} is the variance of the records.\")"
   ]
  },
  {
   "cell_type": "markdown",
   "id": "5c7dcf18-8537-4bc5-a1b6-9ffd29a2693c",
   "metadata": {},
   "source": [
    "### Standard Deviation\n",
    "Standard deviation is a fundamental concept in statistics that measures the dispersion of data points which defines the extent to which data points in a dataset deviate from the mean, providing a clear sense of the variability or spread within the data. It can also be called square root of variance."
   ]
  },
  {
   "cell_type": "code",
   "execution_count": 7,
   "id": "5804ed60-21c9-4a62-864a-060566ec9443",
   "metadata": {},
   "outputs": [
    {
     "name": "stdout",
     "output_type": "stream",
     "text": [
      "5.540758070878027 is the standard deviation of the records.\n"
     ]
    }
   ],
   "source": [
    "std_deviation = variance_mean ** (1/2)\n",
    "print(f\"{std_deviation} is the standard deviation of the records.\")"
   ]
  },
  {
   "cell_type": "markdown",
   "id": "e07e79ea-d990-4495-ad17-c18aaaa8c9d7",
   "metadata": {},
   "source": [
    "### Interquartile Range\n",
    "The interquartile range IQR tells us the range where the bulk of the values lie. The interquartile range is calculated by subtracting the first quartile from the third quartile.\n",
    "* Q1 is middle number between the smallest number and the median of the data set\n",
    "* Q2 is median\n",
    "* Q3 is middle value between the median and the highest value of the data set"
   ]
  },
  {
   "cell_type": "code",
   "execution_count": 8,
   "id": "5790df68-55d6-4deb-aa54-d63bfc6f50a4",
   "metadata": {},
   "outputs": [
    {
     "name": "stdout",
     "output_type": "stream",
     "text": [
      "9.0 is Interquartile Range.\n"
     ]
    }
   ],
   "source": [
    "q2_of_records = find_median(sorted_records, total_records)\n",
    "\n",
    "q1_of_records = [ele for ele in sorted_records if ele < q2_of_records]\n",
    "total_q1 = len(q1_of_records)\n",
    "q1_median = find_median(q1_of_records, total_q1)\n",
    "\n",
    "q3_of_records = [ele for ele in sorted_records if ele > q2_of_records]\n",
    "total_q3 = len(q3_of_records)\n",
    "q3_median = find_median(q3_of_records, total_q3)\n",
    "\n",
    "iqr = q3_median - q1_median\n",
    "print(f\"{iqr} is Interquartile Range.\")"
   ]
  },
  {
   "cell_type": "markdown",
   "id": "0a6f10bf-4fbf-41db-9803-701f83fe5007",
   "metadata": {},
   "source": [
    "### Percentile\n",
    "Percentile is a term that describes how a score compares to other scores from the same set. While there is no universal definition of percentile, it is commonly expressed as the percentage of values in a set of data scores that fall below a given value."
   ]
  },
  {
   "cell_type": "code",
   "execution_count": 9,
   "id": "91cbbc0f-2328-419e-a4e3-84847db0f6b3",
   "metadata": {},
   "outputs": [
    {
     "name": "stdout",
     "output_type": "stream",
     "text": [
      "82, 87 and 91 are the values of 25th percentile, 50th percentile and 75th percentile respectively.\n"
     ]
    }
   ],
   "source": [
    "def percentile(x):\n",
    "    # x is the percentile value\n",
    "    result = (x / 100) * total_records\n",
    "    return int(result)\n",
    "\n",
    "\n",
    "percentile_25 = sorted_records[percentile(25)]\n",
    "percentile_50 = sorted_records[percentile(50)]\n",
    "percentile_75 = sorted_records[percentile(75)]\n",
    "\n",
    "print(f\"{percentile_25}, {percentile_50} and {percentile_75} are the values of 25th percentile, 50th percentile and 75th percentile respectively.\")"
   ]
  },
  {
   "cell_type": "code",
   "execution_count": null,
   "id": "3f8ed26d-6d69-42f9-9799-ff5c8cf79cfb",
   "metadata": {},
   "outputs": [],
   "source": []
  }
 ],
 "metadata": {
  "kernelspec": {
   "display_name": "Python 3 (ipykernel)",
   "language": "python",
   "name": "python3"
  },
  "language_info": {
   "codemirror_mode": {
    "name": "ipython",
    "version": 3
   },
   "file_extension": ".py",
   "mimetype": "text/x-python",
   "name": "python",
   "nbconvert_exporter": "python",
   "pygments_lexer": "ipython3",
   "version": "3.12.7"
  }
 },
 "nbformat": 4,
 "nbformat_minor": 5
}
