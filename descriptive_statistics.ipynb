{
 "cells": [
  {
   "cell_type": "markdown",
   "id": "ac6993d3-df1b-49a4-9e9c-56e790dd58fe",
   "metadata": {},
   "source": [
    "# Descriptive Statistics"
   ]
  },
  {
   "cell_type": "markdown",
   "id": "e74c02d7-a20d-45c0-97ff-6347dc82ba84",
   "metadata": {},
   "source": [
    "> Descriptive statistics refers to a branch of statistics that involves summarizing, organizing, and presenting data meaningfully and concisely. It focuses on describing and analyzing a dataset's main features and characteristics without making any generalizations or inferences to a larger population.\n",
    "\n",
    "Reference - [Simplilearn](https://www.simplilearn.com/what-is-descriptive-statistics-article)"
   ]
  },
  {
   "cell_type": "markdown",
   "id": "8eb22415-24d0-4747-9b28-1623b04d2759",
   "metadata": {},
   "source": [
    "## Measure of Central Tendency\n",
    "The central tendency measure is defined as the number used to represent the center or middle of a set of data values. The three commonly used measures of central tendency are the mean, median, and mode.\\\n",
    "Lets use them on the following data:"
   ]
  },
  {
   "cell_type": "code",
   "execution_count": 1,
   "id": "b1b11815-6537-4332-af2b-f9ad687c3ea2",
   "metadata": {},
   "outputs": [],
   "source": [
    "results = [85, 90, 75, 92, 88, 79, 83, 95, 87, 91, 78, 86, 89, 94, 82, 80, 84, 93, 88, 81]"
   ]
  },
  {
   "cell_type": "markdown",
   "id": "85739ae0-1db0-4cdf-9312-53a7307bfa40",
   "metadata": {},
   "source": [
    "### Mean\n",
    "Simply the average of all records. It is calculated by summation of records and dividing it by number of records."
   ]
  },
  {
   "cell_type": "code",
   "execution_count": 2,
   "id": "a9886508-c1d6-4ab2-98d9-a67363b8d7f8",
   "metadata": {},
   "outputs": [
    {
     "name": "stdout",
     "output_type": "stream",
     "text": [
      "86.0 is the average score of 20 students.\n"
     ]
    }
   ],
   "source": [
    "total_score = sum(results)\n",
    "total_records = len(results)\n",
    "mean = total_score/total_records\n",
    "print(f\"{mean} is the average score of {total_records} students.\")"
   ]
  },
  {
   "cell_type": "markdown",
   "id": "211c2ce3-7a0f-4b7c-9126-b6c5a16a72f5",
   "metadata": {},
   "source": [
    "### Median\n",
    "To find a median among records they first must be sorted. Median is the record which is in dead center of records."
   ]
  },
  {
   "cell_type": "code",
   "execution_count": 3,
   "id": "6a4f5922-975e-4e11-bb4f-66da814d1506",
   "metadata": {},
   "outputs": [
    {
     "name": "stdout",
     "output_type": "stream",
     "text": [
      "87 is median value of the records.\n"
     ]
    }
   ],
   "source": [
    "sorted_results = sorted(results)\n",
    "total_records = len(results)\n",
    "median_index = int(total_records/2)\n",
    "median = sorted_results[median_index]\n",
    "print(f\"{median} is median value of the records.\")"
   ]
  },
  {
   "cell_type": "markdown",
   "id": "31d7bf25-b222-46d4-a926-f8a0458ba234",
   "metadata": {},
   "source": [
    "### Mode\n",
    "Mode is record which has the most occurence among the records."
   ]
  },
  {
   "cell_type": "code",
   "execution_count": 9,
   "id": "1a3be2ec-2edb-46f5-930f-3fd5dd6299ad",
   "metadata": {},
   "outputs": [
    {
     "name": "stdout",
     "output_type": "stream",
     "text": [
      "2\n"
     ]
    }
   ],
   "source": [
    "from collections import Counter\n",
    "counted_results = Counter(results)\n",
    "counted_results = {val: key for key, val in counted_results.items()}\n",
    "max_count = max(counted_results)\n",
    "mode = counted_results[max_count]\n",
    "print(f\"{mode} is the mode with {max_count} occurences.\")"
   ]
  },
  {
   "cell_type": "code",
   "execution_count": null,
   "id": "acdb30b4-aa7c-4bd1-bc31-3b6a583923c8",
   "metadata": {},
   "outputs": [],
   "source": []
  }
 ],
 "metadata": {
  "kernelspec": {
   "display_name": "Python 3 (ipykernel)",
   "language": "python",
   "name": "python3"
  },
  "language_info": {
   "codemirror_mode": {
    "name": "ipython",
    "version": 3
   },
   "file_extension": ".py",
   "mimetype": "text/x-python",
   "name": "python",
   "nbconvert_exporter": "python",
   "pygments_lexer": "ipython3",
   "version": "3.12.7"
  }
 },
 "nbformat": 4,
 "nbformat_minor": 5
}
